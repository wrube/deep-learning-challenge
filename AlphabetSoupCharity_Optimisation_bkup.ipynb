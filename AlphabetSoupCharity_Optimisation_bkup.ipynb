{
 "cells": [
  {
   "cell_type": "markdown",
   "metadata": {},
   "source": [
    "## Preprocessing"
   ]
  },
  {
   "cell_type": "code",
   "execution_count": 2,
   "metadata": {},
   "outputs": [
    {
     "data": {
      "text/html": [
       "<div>\n",
       "<style scoped>\n",
       "    .dataframe tbody tr th:only-of-type {\n",
       "        vertical-align: middle;\n",
       "    }\n",
       "\n",
       "    .dataframe tbody tr th {\n",
       "        vertical-align: top;\n",
       "    }\n",
       "\n",
       "    .dataframe thead th {\n",
       "        text-align: right;\n",
       "    }\n",
       "</style>\n",
       "<table border=\"1\" class=\"dataframe\">\n",
       "  <thead>\n",
       "    <tr style=\"text-align: right;\">\n",
       "      <th></th>\n",
       "      <th>EIN</th>\n",
       "      <th>NAME</th>\n",
       "      <th>APPLICATION_TYPE</th>\n",
       "      <th>AFFILIATION</th>\n",
       "      <th>CLASSIFICATION</th>\n",
       "      <th>USE_CASE</th>\n",
       "      <th>ORGANIZATION</th>\n",
       "      <th>STATUS</th>\n",
       "      <th>INCOME_AMT</th>\n",
       "      <th>SPECIAL_CONSIDERATIONS</th>\n",
       "      <th>ASK_AMT</th>\n",
       "      <th>IS_SUCCESSFUL</th>\n",
       "    </tr>\n",
       "  </thead>\n",
       "  <tbody>\n",
       "    <tr>\n",
       "      <th>0</th>\n",
       "      <td>10520599</td>\n",
       "      <td>BLUE KNIGHTS MOTORCYCLE CLUB</td>\n",
       "      <td>T10</td>\n",
       "      <td>Independent</td>\n",
       "      <td>C1000</td>\n",
       "      <td>ProductDev</td>\n",
       "      <td>Association</td>\n",
       "      <td>1</td>\n",
       "      <td>0</td>\n",
       "      <td>N</td>\n",
       "      <td>5000</td>\n",
       "      <td>1</td>\n",
       "    </tr>\n",
       "    <tr>\n",
       "      <th>1</th>\n",
       "      <td>10531628</td>\n",
       "      <td>AMERICAN CHESAPEAKE CLUB CHARITABLE TR</td>\n",
       "      <td>T3</td>\n",
       "      <td>Independent</td>\n",
       "      <td>C2000</td>\n",
       "      <td>Preservation</td>\n",
       "      <td>Co-operative</td>\n",
       "      <td>1</td>\n",
       "      <td>1-9999</td>\n",
       "      <td>N</td>\n",
       "      <td>108590</td>\n",
       "      <td>1</td>\n",
       "    </tr>\n",
       "    <tr>\n",
       "      <th>2</th>\n",
       "      <td>10547893</td>\n",
       "      <td>ST CLOUD PROFESSIONAL FIREFIGHTERS</td>\n",
       "      <td>T5</td>\n",
       "      <td>CompanySponsored</td>\n",
       "      <td>C3000</td>\n",
       "      <td>ProductDev</td>\n",
       "      <td>Association</td>\n",
       "      <td>1</td>\n",
       "      <td>0</td>\n",
       "      <td>N</td>\n",
       "      <td>5000</td>\n",
       "      <td>0</td>\n",
       "    </tr>\n",
       "    <tr>\n",
       "      <th>3</th>\n",
       "      <td>10553066</td>\n",
       "      <td>SOUTHSIDE ATHLETIC ASSOCIATION</td>\n",
       "      <td>T3</td>\n",
       "      <td>CompanySponsored</td>\n",
       "      <td>C2000</td>\n",
       "      <td>Preservation</td>\n",
       "      <td>Trust</td>\n",
       "      <td>1</td>\n",
       "      <td>10000-24999</td>\n",
       "      <td>N</td>\n",
       "      <td>6692</td>\n",
       "      <td>1</td>\n",
       "    </tr>\n",
       "    <tr>\n",
       "      <th>4</th>\n",
       "      <td>10556103</td>\n",
       "      <td>GENETIC RESEARCH INSTITUTE OF THE DESERT</td>\n",
       "      <td>T3</td>\n",
       "      <td>Independent</td>\n",
       "      <td>C1000</td>\n",
       "      <td>Heathcare</td>\n",
       "      <td>Trust</td>\n",
       "      <td>1</td>\n",
       "      <td>100000-499999</td>\n",
       "      <td>N</td>\n",
       "      <td>142590</td>\n",
       "      <td>1</td>\n",
       "    </tr>\n",
       "  </tbody>\n",
       "</table>\n",
       "</div>"
      ],
      "text/plain": [
       "        EIN                                      NAME APPLICATION_TYPE  \\\n",
       "0  10520599              BLUE KNIGHTS MOTORCYCLE CLUB              T10   \n",
       "1  10531628    AMERICAN CHESAPEAKE CLUB CHARITABLE TR               T3   \n",
       "2  10547893        ST CLOUD PROFESSIONAL FIREFIGHTERS               T5   \n",
       "3  10553066            SOUTHSIDE ATHLETIC ASSOCIATION               T3   \n",
       "4  10556103  GENETIC RESEARCH INSTITUTE OF THE DESERT               T3   \n",
       "\n",
       "        AFFILIATION CLASSIFICATION      USE_CASE  ORGANIZATION  STATUS  \\\n",
       "0       Independent          C1000    ProductDev   Association       1   \n",
       "1       Independent          C2000  Preservation  Co-operative       1   \n",
       "2  CompanySponsored          C3000    ProductDev   Association       1   \n",
       "3  CompanySponsored          C2000  Preservation         Trust       1   \n",
       "4       Independent          C1000     Heathcare         Trust       1   \n",
       "\n",
       "      INCOME_AMT SPECIAL_CONSIDERATIONS  ASK_AMT  IS_SUCCESSFUL  \n",
       "0              0                      N     5000              1  \n",
       "1         1-9999                      N   108590              1  \n",
       "2              0                      N     5000              0  \n",
       "3    10000-24999                      N     6692              1  \n",
       "4  100000-499999                      N   142590              1  "
      ]
     },
     "execution_count": 2,
     "metadata": {},
     "output_type": "execute_result"
    }
   ],
   "source": [
    "# Import our dependencies\n",
    "from sklearn.model_selection import train_test_split\n",
    "from sklearn.preprocessing import StandardScaler, power_transform\n",
    "import pandas as pd\n",
    "import tensorflow as tf\n",
    "# Import the kerastuner library\n",
    "import keras_tuner as kt\n",
    "import random\n",
    "import numpy as np\n",
    "\n",
    "np.random.seed(42)\n",
    "tf.random.set_seed(42)\n",
    "random.seed(42)\n",
    "\n",
    "#  Import and read the charity_data.csv.\n",
    "import pandas as pd \n",
    "\n",
    "application_df = pd.read_csv(\"https://static.bc-edx.com/data/dla-1-2/m21/lms/starter/charity_data.csv\")\n",
    "application_df.head()"
   ]
  },
  {
   "cell_type": "code",
   "execution_count": 3,
   "metadata": {},
   "outputs": [
    {
     "data": {
      "text/html": [
       "<div>\n",
       "<style scoped>\n",
       "    .dataframe tbody tr th:only-of-type {\n",
       "        vertical-align: middle;\n",
       "    }\n",
       "\n",
       "    .dataframe tbody tr th {\n",
       "        vertical-align: top;\n",
       "    }\n",
       "\n",
       "    .dataframe thead th {\n",
       "        text-align: right;\n",
       "    }\n",
       "</style>\n",
       "<table border=\"1\" class=\"dataframe\">\n",
       "  <thead>\n",
       "    <tr style=\"text-align: right;\">\n",
       "      <th></th>\n",
       "      <th>APPLICATION_TYPE</th>\n",
       "      <th>AFFILIATION</th>\n",
       "      <th>CLASSIFICATION</th>\n",
       "      <th>USE_CASE</th>\n",
       "      <th>ORGANIZATION</th>\n",
       "      <th>STATUS</th>\n",
       "      <th>INCOME_AMT</th>\n",
       "      <th>SPECIAL_CONSIDERATIONS</th>\n",
       "      <th>ASK_AMT</th>\n",
       "      <th>IS_SUCCESSFUL</th>\n",
       "    </tr>\n",
       "  </thead>\n",
       "  <tbody>\n",
       "    <tr>\n",
       "      <th>0</th>\n",
       "      <td>T10</td>\n",
       "      <td>Independent</td>\n",
       "      <td>C1000</td>\n",
       "      <td>ProductDev</td>\n",
       "      <td>Association</td>\n",
       "      <td>1</td>\n",
       "      <td>0</td>\n",
       "      <td>N</td>\n",
       "      <td>5000</td>\n",
       "      <td>1</td>\n",
       "    </tr>\n",
       "    <tr>\n",
       "      <th>1</th>\n",
       "      <td>T3</td>\n",
       "      <td>Independent</td>\n",
       "      <td>C2000</td>\n",
       "      <td>Preservation</td>\n",
       "      <td>Co-operative</td>\n",
       "      <td>1</td>\n",
       "      <td>1-9999</td>\n",
       "      <td>N</td>\n",
       "      <td>108590</td>\n",
       "      <td>1</td>\n",
       "    </tr>\n",
       "    <tr>\n",
       "      <th>2</th>\n",
       "      <td>T5</td>\n",
       "      <td>CompanySponsored</td>\n",
       "      <td>C3000</td>\n",
       "      <td>ProductDev</td>\n",
       "      <td>Association</td>\n",
       "      <td>1</td>\n",
       "      <td>0</td>\n",
       "      <td>N</td>\n",
       "      <td>5000</td>\n",
       "      <td>0</td>\n",
       "    </tr>\n",
       "    <tr>\n",
       "      <th>3</th>\n",
       "      <td>T3</td>\n",
       "      <td>CompanySponsored</td>\n",
       "      <td>C2000</td>\n",
       "      <td>Preservation</td>\n",
       "      <td>Trust</td>\n",
       "      <td>1</td>\n",
       "      <td>10000-24999</td>\n",
       "      <td>N</td>\n",
       "      <td>6692</td>\n",
       "      <td>1</td>\n",
       "    </tr>\n",
       "    <tr>\n",
       "      <th>4</th>\n",
       "      <td>T3</td>\n",
       "      <td>Independent</td>\n",
       "      <td>C1000</td>\n",
       "      <td>Heathcare</td>\n",
       "      <td>Trust</td>\n",
       "      <td>1</td>\n",
       "      <td>100000-499999</td>\n",
       "      <td>N</td>\n",
       "      <td>142590</td>\n",
       "      <td>1</td>\n",
       "    </tr>\n",
       "  </tbody>\n",
       "</table>\n",
       "</div>"
      ],
      "text/plain": [
       "  APPLICATION_TYPE       AFFILIATION CLASSIFICATION      USE_CASE  \\\n",
       "0              T10       Independent          C1000    ProductDev   \n",
       "1               T3       Independent          C2000  Preservation   \n",
       "2               T5  CompanySponsored          C3000    ProductDev   \n",
       "3               T3  CompanySponsored          C2000  Preservation   \n",
       "4               T3       Independent          C1000     Heathcare   \n",
       "\n",
       "   ORGANIZATION  STATUS     INCOME_AMT SPECIAL_CONSIDERATIONS  ASK_AMT  \\\n",
       "0   Association       1              0                      N     5000   \n",
       "1  Co-operative       1         1-9999                      N   108590   \n",
       "2   Association       1              0                      N     5000   \n",
       "3         Trust       1    10000-24999                      N     6692   \n",
       "4         Trust       1  100000-499999                      N   142590   \n",
       "\n",
       "   IS_SUCCESSFUL  \n",
       "0              1  \n",
       "1              1  \n",
       "2              0  \n",
       "3              1  \n",
       "4              1  "
      ]
     },
     "execution_count": 3,
     "metadata": {},
     "output_type": "execute_result"
    }
   ],
   "source": [
    "# Drop the non-beneficial ID columns, 'EIN' and 'NAME'.\n",
    "application_df = application_df.drop(['EIN', 'NAME'], axis=1)\n",
    "application_df.head()"
   ]
  },
  {
   "cell_type": "code",
   "execution_count": 4,
   "metadata": {},
   "outputs": [
    {
     "data": {
      "text/plain": [
       "APPLICATION_TYPE            17\n",
       "AFFILIATION                  6\n",
       "CLASSIFICATION              71\n",
       "USE_CASE                     5\n",
       "ORGANIZATION                 4\n",
       "STATUS                       2\n",
       "INCOME_AMT                   9\n",
       "SPECIAL_CONSIDERATIONS       2\n",
       "ASK_AMT                   8747\n",
       "IS_SUCCESSFUL                2\n",
       "dtype: int64"
      ]
     },
     "execution_count": 4,
     "metadata": {},
     "output_type": "execute_result"
    }
   ],
   "source": [
    "# Determine the number of unique values in each column.\n",
    "application_df.nunique()"
   ]
  },
  {
   "cell_type": "code",
   "execution_count": 5,
   "metadata": {},
   "outputs": [
    {
     "data": {
      "text/plain": [
       "APPLICATION_TYPE\n",
       "T3     27037\n",
       "T4      1542\n",
       "T6      1216\n",
       "T5      1173\n",
       "T19     1065\n",
       "T8       737\n",
       "T7       725\n",
       "T10      528\n",
       "T9       156\n",
       "T13       66\n",
       "T12       27\n",
       "T2        16\n",
       "T25        3\n",
       "T14        3\n",
       "T29        2\n",
       "T15        2\n",
       "T17        1\n",
       "Name: count, dtype: int64"
      ]
     },
     "execution_count": 5,
     "metadata": {},
     "output_type": "execute_result"
    }
   ],
   "source": [
    "# Look at APPLICATION_TYPE value counts for binning\n",
    "application_type_count = application_df['APPLICATION_TYPE'].value_counts()\n",
    "application_type_count"
   ]
  },
  {
   "cell_type": "code",
   "execution_count": 6,
   "metadata": {},
   "outputs": [
    {
     "data": {
      "text/plain": [
       "APPLICATION_TYPE\n",
       "T3       27037\n",
       "T4        1542\n",
       "T6        1216\n",
       "T5        1173\n",
       "T19       1065\n",
       "T8         737\n",
       "T7         725\n",
       "T10        528\n",
       "T9         156\n",
       "T13         66\n",
       "Other       54\n",
       "Name: count, dtype: int64"
      ]
     },
     "execution_count": 6,
     "metadata": {},
     "output_type": "execute_result"
    }
   ],
   "source": [
    "# Choose a cutoff value and create a list of application types to be replaced\n",
    "# use the variable name `application_types_to_replace`\n",
    "cutoff_count = 50\n",
    "application_types_to_replace = application_type_count.loc[application_type_count < cutoff_count].index.to_list()\n",
    "\n",
    "\n",
    "# Replace in dataframe\n",
    "for app in application_types_to_replace:\n",
    "    application_df['APPLICATION_TYPE'] = application_df['APPLICATION_TYPE'].replace(app,\"Other\")\n",
    "\n",
    "# Check to make sure binning was successful\n",
    "application_df['APPLICATION_TYPE'].value_counts()"
   ]
  },
  {
   "cell_type": "code",
   "execution_count": 7,
   "metadata": {},
   "outputs": [
    {
     "data": {
      "text/plain": [
       "CLASSIFICATION\n",
       "C1000    17326\n",
       "C2000     6074\n",
       "C1200     4837\n",
       "C3000     1918\n",
       "C2100     1883\n",
       "         ...  \n",
       "C4120        1\n",
       "C8210        1\n",
       "C2561        1\n",
       "C4500        1\n",
       "C2150        1\n",
       "Name: count, Length: 71, dtype: int64"
      ]
     },
     "execution_count": 7,
     "metadata": {},
     "output_type": "execute_result"
    }
   ],
   "source": [
    "# Look at CLASSIFICATION value counts for binning\n",
    "classification_type_counts = application_df['CLASSIFICATION'].value_counts()\n",
    "classification_type_counts"
   ]
  },
  {
   "cell_type": "code",
   "execution_count": 8,
   "metadata": {},
   "outputs": [
    {
     "data": {
      "text/plain": [
       "CLASSIFICATION\n",
       "C1000    17326\n",
       "C2000     6074\n",
       "C1200     4837\n",
       "C3000     1918\n",
       "C2100     1883\n",
       "C7000      777\n",
       "C1700      287\n",
       "C4000      194\n",
       "C5000      116\n",
       "C1270      114\n",
       "C2700      104\n",
       "C2800       95\n",
       "C7100       75\n",
       "C1300       58\n",
       "C1280       50\n",
       "C1230       36\n",
       "C1400       34\n",
       "C7200       32\n",
       "C2300       32\n",
       "C1240       30\n",
       "C8000       20\n",
       "C7120       18\n",
       "C1500       16\n",
       "C1800       15\n",
       "C6000       15\n",
       "C1250       14\n",
       "C8200       11\n",
       "C1238       10\n",
       "C1278       10\n",
       "C1235        9\n",
       "C1237        9\n",
       "C7210        7\n",
       "C2400        6\n",
       "C1720        6\n",
       "C4100        6\n",
       "Name: count, dtype: int64"
      ]
     },
     "execution_count": 8,
     "metadata": {},
     "output_type": "execute_result"
    }
   ],
   "source": [
    "# You may find it helpful to look at CLASSIFICATION value counts >1\n",
    "classification_type_counts.loc[classification_type_counts > 5]"
   ]
  },
  {
   "cell_type": "code",
   "execution_count": 9,
   "metadata": {},
   "outputs": [
    {
     "data": {
      "text/plain": [
       "CLASSIFICATION\n",
       "C1000    17326\n",
       "C2000     6074\n",
       "C1200     4837\n",
       "C3000     1918\n",
       "C2100     1883\n",
       "C7000      777\n",
       "C1700      287\n",
       "C4000      194\n",
       "Other      118\n",
       "C5000      116\n",
       "C1270      114\n",
       "C2700      104\n",
       "C2800       95\n",
       "C7100       75\n",
       "C1300       58\n",
       "C1280       50\n",
       "C1230       36\n",
       "C1400       34\n",
       "C2300       32\n",
       "C7200       32\n",
       "C1240       30\n",
       "C8000       20\n",
       "C7120       18\n",
       "C1500       16\n",
       "C6000       15\n",
       "C1800       15\n",
       "C1250       14\n",
       "C8200       11\n",
       "Name: count, dtype: int64"
      ]
     },
     "execution_count": 9,
     "metadata": {},
     "output_type": "execute_result"
    }
   ],
   "source": [
    "# Choose a cutoff value and create a list of classifications to be replaced\n",
    "# use the variable name `classifications_to_replace`\n",
    "cutoff_classification = 10\n",
    "classifications_to_replace = classification_type_counts.loc[\n",
    "    classification_type_counts <= cutoff_classification].index.to_list()\n",
    "\n",
    "# classifications_to_replace\n",
    "\n",
    "# Replace in dataframe\n",
    "for cls in classifications_to_replace:\n",
    "    application_df['CLASSIFICATION'] = application_df['CLASSIFICATION'].replace(cls, \"Other\")\n",
    "    \n",
    "# Check to make sure binning was successful\n",
    "application_df['CLASSIFICATION'].value_counts()"
   ]
  },
  {
   "cell_type": "code",
   "execution_count": 10,
   "metadata": {},
   "outputs": [
    {
     "data": {
      "text/plain": [
       "STATUS\n",
       "1    34294\n",
       "0        5\n",
       "Name: count, dtype: int64"
      ]
     },
     "execution_count": 10,
     "metadata": {},
     "output_type": "execute_result"
    }
   ],
   "source": [
    "# value counts of status column\n",
    "application_df['STATUS'].value_counts()"
   ]
  },
  {
   "cell_type": "code",
   "execution_count": 11,
   "metadata": {},
   "outputs": [],
   "source": [
    "# drop the 'STATUS' column\n",
    "\n",
    "application_df.drop('STATUS', axis=1, inplace=True)"
   ]
  },
  {
   "cell_type": "code",
   "execution_count": 12,
   "metadata": {},
   "outputs": [
    {
     "data": {
      "text/plain": [
       "count    3.429900e+04\n",
       "mean     2.769199e+06\n",
       "std      8.713045e+07\n",
       "min      5.000000e+03\n",
       "25%      5.000000e+03\n",
       "50%      5.000000e+03\n",
       "75%      7.742000e+03\n",
       "max      8.597806e+09\n",
       "Name: ASK_AMT, dtype: float64"
      ]
     },
     "execution_count": 12,
     "metadata": {},
     "output_type": "execute_result"
    },
    {
     "data": {
      "image/png": "[encoded data removed]",
      "text/plain": [
       "<Figure size 640x480 with 1 Axes>"
      ]
     },
     "metadata": {},
     "output_type": "display_data"
    }
   ],
   "source": [
    "# investigate the distribution of the 'ASK_AMT' column\n",
    "# X_train['ASK_AMT'].plot.hist(bins=100, xlabel='Ask Amount')\n",
    "application_df['ASK_AMT'].plot.box(ylabel='Amount ($)')\n",
    "application_df['ASK_AMT'].describe()"
   ]
  },
  {
   "cell_type": "code",
   "execution_count": 14,
   "metadata": {},
   "outputs": [],
   "source": [
    "# Convert categorical data to numeric with `pd.get_dummies`\n",
    "application_df_with_dummies = pd.get_dummies(application_df, columns=['APPLICATION_TYPE', \n",
    "                                        'AFFILIATION', \n",
    "                                        'CLASSIFICATION', \n",
    "                                        'USE_CASE', \n",
    "                                        'ORGANIZATION', \n",
    "                                        'INCOME_AMT', \n",
    "                                        'SPECIAL_CONSIDERATIONS',\n",
    "                                        ], dtype=int)"
   ]
  },
  {
   "cell_type": "code",
   "execution_count": 15,
   "metadata": {},
   "outputs": [],
   "source": [
    "# Split our preprocessed data into our features and target arrays\n",
    "y = application_df_with_dummies['IS_SUCCESSFUL']     # the binary target array\n",
    "\n",
    "X = application_df_with_dummies.drop(columns='IS_SUCCESSFUL', axis=1)    # input features DataFrame\n",
    "\n",
    "# Split the preprocessed data into a training and testing dataset\n",
    "X_train, X_test, y_train, y_test = train_test_split(X, y, random_state=1)"
   ]
  },
  {
   "cell_type": "code",
   "execution_count": 16,
   "metadata": {},
   "outputs": [],
   "source": [
    "# create transformation function to deal with the large right skewness of 'ASK_AMT' column\n",
    "\n",
    "def transform_column(df, column_name):\n",
    "    # reshape column into 2D array\n",
    "    col_array = np.reshape(df[column_name].values, (-1, 1))\n",
    "\n",
    "    # use the yeo-johnson transformation\n",
    "    col_transformed = power_transform(col_array, method='yeo-johnson')\n",
    "\n",
    "    # add transformed column to dataframe\n",
    "    new_column_name = f\"{column_name}_transformed\"\n",
    "    df[new_column_name] = col_transformed\n",
    "    df.drop(column_name, axis=1, inplace=True)\n",
    "    return df\n",
    "\n",
    "X_train = transform_column(X_train, 'ASK_AMT')\n",
    "X_test = transform_column(X_test, 'ASK_AMT')\n"
   ]
  },
  {
   "cell_type": "code",
   "execution_count": 17,
   "metadata": {},
   "outputs": [],
   "source": [
    "# Create a StandardScaler instances\n",
    "scaler = StandardScaler()\n",
    "\n",
    "# Fit the StandardScaler\n",
    "X_scaler = scaler.fit(X_train)\n",
    "\n",
    "# Scale the data\n",
    "X_train_scaled = X_scaler.transform(X_train)\n",
    "X_test_scaled = X_scaler.transform(X_test)"
   ]
  },
  {
   "cell_type": "markdown",
   "metadata": {},
   "source": [
    "## Compile, Train and Evaluate the Model"
   ]
  },
  {
   "cell_type": "code",
   "execution_count": 18,
   "metadata": {},
   "outputs": [],
   "source": [
    "n_input_features = X_train_scaled.shape[1]  # the number of columns (features) in the X_train_scaled df\n",
    "n_nodes_layer_1 = int(2 * n_input_features ) # scale the number of features in the first layer by number of features and a scalar\n",
    "n_nodes_layer_2 = int(3 * n_input_features) # scale the number of features in the first layer by number of features and a scalar\n",
    "activation_func_init = 'relu'\n",
    "\n"
   ]
  },
  {
   "cell_type": "code",
   "execution_count": 19,
   "metadata": {},
   "outputs": [
    {
     "name": "stdout",
     "output_type": "stream",
     "text": [
      "Model: \"optimised_model_v1\"\n",
      "_________________________________________________________________\n",
      " Layer (type)                Output Shape              Param #   \n",
      "=================================================================\n",
      " Layer_1 (Dense)             (None, 132)               8844      \n",
      "                                                                 \n",
      " Layer_2 (Dense)             (None, 198)               26334     \n",
      "                                                                 \n",
      " Output (Dense)              (None, 1)                 199       \n",
      "                                                                 \n",
      "=================================================================\n",
      "Total params: 35377 (138.19 KB)\n",
      "Trainable params: 35377 (138.19 KB)\n",
      "Non-trainable params: 0 (0.00 Byte)\n",
      "_________________________________________________________________\n"
     ]
    }
   ],
   "source": [
    "# Define the model - deep neural net, i.e., the number of input features and hidden nodes for each layer.\n",
    "nn_final = tf.keras.models.Sequential(name='optimised_model_v1')\n",
    "\n",
    "\n",
    "\n",
    "# First hidden layer\n",
    "nn_final.add(tf.keras.layers.Dense(units = n_nodes_layer_1, \n",
    "                             input_dim = n_input_features,\n",
    "                             activation = activation_func_init,\n",
    "                             name = 'Layer_1'   \n",
    "                            )\n",
    "        )\n",
    "\n",
    "\n",
    "# Second hidden layer\n",
    "nn_final.add(tf.keras.layers.Dense(units = n_nodes_layer_2, \n",
    "                             activation = activation_func_init,\n",
    "                             name='Layer_2'\n",
    "                             )\n",
    "        )\n",
    "\n",
    "# Output layer\n",
    "nn_final.add(tf.keras.layers.Dense(units = 1, \n",
    "                             activation='sigmoid',\n",
    "                             name = 'Output',\n",
    "                             )\n",
    "        )\n",
    "\n",
    "# Check the structure of the model\n",
    "nn_final.summary()"
   ]
  },
  {
   "cell_type": "code",
   "execution_count": 20,
   "metadata": {},
   "outputs": [
    {
     "name": "stdout",
     "output_type": "stream",
     "text": [
      "Epoch 1/30\n",
      "804/804 [==============================] - 1s 820us/step - loss: 0.5698 - accuracy: 0.7198\n",
      "Epoch 2/30\n",
      "804/804 [==============================] - 1s 810us/step - loss: 0.5523 - accuracy: 0.7301\n",
      "Epoch 3/30\n",
      "804/804 [==============================] - 1s 795us/step - loss: 0.5486 - accuracy: 0.7301\n",
      "Epoch 4/30\n",
      "804/804 [==============================] - 1s 797us/step - loss: 0.5463 - accuracy: 0.7328\n",
      "Epoch 5/30\n",
      "804/804 [==============================] - 1s 806us/step - loss: 0.5448 - accuracy: 0.7337\n",
      "Epoch 6/30\n",
      "804/804 [==============================] - 1s 870us/step - loss: 0.5435 - accuracy: 0.7348\n",
      "Epoch 7/30\n",
      "804/804 [==============================] - 1s 855us/step - loss: 0.5431 - accuracy: 0.7341\n",
      "Epoch 8/30\n",
      "804/804 [==============================] - 1s 812us/step - loss: 0.5418 - accuracy: 0.7350\n",
      "Epoch 9/30\n",
      "804/804 [==============================] - 1s 837us/step - loss: 0.5416 - accuracy: 0.7362\n",
      "Epoch 10/30\n",
      "804/804 [==============================] - 1s 807us/step - loss: 0.5403 - accuracy: 0.7376\n",
      "Epoch 11/30\n",
      "804/804 [==============================] - 1s 808us/step - loss: 0.5390 - accuracy: 0.7367\n",
      "Epoch 12/30\n",
      "804/804 [==============================] - 1s 850us/step - loss: 0.5390 - accuracy: 0.7365\n",
      "Epoch 13/30\n",
      "804/804 [==============================] - 1s 819us/step - loss: 0.5383 - accuracy: 0.7372\n",
      "Epoch 14/30\n",
      "804/804 [==============================] - 1s 795us/step - loss: 0.5377 - accuracy: 0.7377\n",
      "Epoch 15/30\n",
      "804/804 [==============================] - 1s 806us/step - loss: 0.5377 - accuracy: 0.7374\n",
      "Epoch 16/30\n",
      "804/804 [==============================] - 1s 811us/step - loss: 0.5368 - accuracy: 0.7385\n",
      "Epoch 17/30\n",
      "804/804 [==============================] - 1s 805us/step - loss: 0.5357 - accuracy: 0.7371\n",
      "Epoch 18/30\n",
      "804/804 [==============================] - 1s 833us/step - loss: 0.5360 - accuracy: 0.7390\n",
      "Epoch 19/30\n",
      "804/804 [==============================] - 1s 821us/step - loss: 0.5350 - accuracy: 0.7393\n",
      "Epoch 20/30\n",
      "804/804 [==============================] - 1s 899us/step - loss: 0.5349 - accuracy: 0.7388\n",
      "Epoch 21/30\n",
      "804/804 [==============================] - 1s 810us/step - loss: 0.5341 - accuracy: 0.7402\n",
      "Epoch 22/30\n",
      "804/804 [==============================] - 1s 798us/step - loss: 0.5339 - accuracy: 0.7397\n",
      "Epoch 23/30\n",
      "804/804 [==============================] - 1s 788us/step - loss: 0.5332 - accuracy: 0.7405\n",
      "Epoch 24/30\n",
      "804/804 [==============================] - 1s 797us/step - loss: 0.5332 - accuracy: 0.7406\n",
      "Epoch 25/30\n",
      "804/804 [==============================] - 1s 791us/step - loss: 0.5332 - accuracy: 0.7402\n",
      "Epoch 26/30\n",
      "804/804 [==============================] - 1s 797us/step - loss: 0.5324 - accuracy: 0.7398\n",
      "Epoch 27/30\n",
      "804/804 [==============================] - 1s 777us/step - loss: 0.5319 - accuracy: 0.7412\n",
      "Epoch 28/30\n",
      "804/804 [==============================] - 1s 799us/step - loss: 0.5314 - accuracy: 0.7410\n",
      "Epoch 29/30\n",
      "804/804 [==============================] - 1s 786us/step - loss: 0.5314 - accuracy: 0.7416\n",
      "Epoch 30/30\n",
      "804/804 [==============================] - 1s 802us/step - loss: 0.5310 - accuracy: 0.7409\n"
     ]
    }
   ],
   "source": [
    "# compile the model\n",
    "nn_final.compile(loss='binary_crossentropy', optimizer='adam', metrics=['accuracy'])\n",
    "\n",
    "# create checkpoint callback for every 5 batches\n",
    "model_checkpoint = tf.keras.callbacks.ModelCheckpoint(\"./checkpoints/optimise_1/\",\n",
    "                                                           save_weights_only = True,\n",
    "                                                           save_freq = 5\n",
    "                                                           )\n",
    "\n",
    "# Train the model\n",
    "fit_model = nn_final.fit(X_train_scaled, \n",
    "                        y_train, \n",
    "                        epochs=30,\n",
    "                        callbacks = model_checkpoint,\n",
    "                        )"
   ]
  },
  {
   "cell_type": "code",
   "execution_count": 21,
   "metadata": {},
   "outputs": [
    {
     "name": "stdout",
     "output_type": "stream",
     "text": [
      "268/268 - 0s - loss: 0.5524 - accuracy: 0.7328 - 184ms/epoch - 685us/step\n",
      "Loss: 0.5523973107337952, Accuracy: 0.7328279614448547\n"
     ]
    }
   ],
   "source": [
    "# Evaluate the model using the test data\n",
    "model_loss, model_accuracy = nn_final.evaluate(X_test_scaled, y_test, verbose=2)\n",
    "print(f\"Loss: {model_loss}, Accuracy: {model_accuracy}\")"
   ]
  },
  {
   "cell_type": "markdown",
   "metadata": {},
   "source": [
    "## Hyperparameter Tuning"
   ]
  },
  {
   "cell_type": "code",
   "execution_count": 22,
   "metadata": {},
   "outputs": [],
   "source": [
    "# Create a method that creates a new Sequential model with hyperparameter options\n",
    "min_num_features = round(n_input_features, -1) * 2\n",
    "max_num_features =  round(n_input_features, -1) * 5\n",
    "node_step = 10\n",
    "\n",
    "def create_model(hp):\n",
    "    nn_model = tf.keras.models.Sequential()\n",
    "\n",
    "    # add dropout layer for stability in model\n",
    "    nn_model.add(tf.keras.layers.Dropout(0.3, input_dim=n_input_features))\n",
    "\n",
    "    # Allow kerastuner to decide which activation function to use in hidden layers\n",
    "    activation = hp.Choice('activation', ['relu', 'tanh',])\n",
    "    \n",
    "    # Allow kerastuner to decide number of neurons in first layer\n",
    "    nn_model.add(tf.keras.layers.Dense(units=hp.Int('first_units',\n",
    "                                                        min_value=min_num_features,\n",
    "                                                        max_value=max_num_features,\n",
    "                                                        step= node_step),\n",
    "                                                    activation=activation,\n",
    "                                                    # input_dim=n_input_features,\n",
    "                                                    name='Layer_1'\n",
    "                                                    )\n",
    "                )\n",
    "    \n",
    "\n",
    "\n",
    "    # Allow kerastuner to decide number of hidden layers and neurons in hidden layers\n",
    "    for i in range(hp.Int('num_layers', 1, 4)):\n",
    "        nn_model.add(tf.keras.layers.Dense(units=hp.Int('units_' + str(i),\n",
    "                min_value=min_num_features,\n",
    "                max_value=max_num_features,\n",
    "                step = node_step),\n",
    "            name = f\"Layer_{i+2}\",\n",
    "            activation=activation))\n",
    "    \n",
    "\n",
    "    # Add final layer    \n",
    "    nn_model.add(tf.keras.layers.Dense(units=1, activation='sigmoid', name='Output'))\n",
    "\n",
    "    # Compile the model\n",
    "    nn_model.compile(loss='binary_crossentropy', optimizer='adam', metrics='accuracy')\n",
    "\n",
    "    return nn_model"
   ]
  },
  {
   "cell_type": "code",
   "execution_count": 23,
   "metadata": {},
   "outputs": [
    {
     "name": "stdout",
     "output_type": "stream",
     "text": [
      "Reloading Tuner from ./untitled_project/tuner0.json\n"
     ]
    }
   ],
   "source": [
    "\n",
    "\n",
    "tuner = kt.Hyperband(\n",
    "    create_model,\n",
    "    objective=\"val_accuracy\",\n",
    "    max_epochs=50,\n",
    "    hyperband_iterations=2)\n",
    "\n",
    "# Run the kerastuner search for best initial hyperparameters after 20 epochs\n",
    "tuner.search(X_train_scaled, y_train,\n",
    "             epochs=30,\n",
    "             validation_data = (X_test_scaled, y_test))"
   ]
  },
  {
   "cell_type": "code",
   "execution_count": 24,
   "metadata": {},
   "outputs": [
    {
     "name": "stdout",
     "output_type": "stream",
     "text": [
      "{'activation': 'tanh', 'first_units': 210, 'num_layers': 3, 'units_0': 280, 'units_1': 230, 'units_2': 180, 'units_3': 350, 'tuner/epochs': 50, 'tuner/initial_epoch': 0, 'tuner/bracket': 0, 'tuner/round': 0}\n",
      "{'activation': 'tanh', 'first_units': 350, 'num_layers': 4, 'units_0': 220, 'units_1': 240, 'units_2': 340, 'units_3': 280, 'tuner/epochs': 50, 'tuner/initial_epoch': 17, 'tuner/bracket': 3, 'tuner/round': 3, 'tuner/trial_id': '0137'}\n",
      "{'activation': 'tanh', 'first_units': 270, 'num_layers': 1, 'units_0': 290, 'units_1': 160, 'units_2': 300, 'units_3': 170, 'tuner/epochs': 6, 'tuner/initial_epoch': 0, 'tuner/bracket': 2, 'tuner/round': 0}\n",
      "{'activation': 'relu', 'first_units': 160, 'num_layers': 2, 'units_0': 200, 'units_1': 230, 'units_2': 150, 'units_3': 230, 'tuner/epochs': 50, 'tuner/initial_epoch': 17, 'tuner/bracket': 2, 'tuner/round': 2, 'tuner/trial_id': '0070'}\n",
      "{'activation': 'relu', 'first_units': 250, 'num_layers': 4, 'units_0': 220, 'units_1': 240, 'units_2': 180, 'units_3': 340, 'tuner/epochs': 50, 'tuner/initial_epoch': 0, 'tuner/bracket': 0, 'tuner/round': 0}\n"
     ]
    }
   ],
   "source": [
    "# print the hyperparameters of the 5 best models\n",
    "top_hp = tuner.get_best_hyperparameters(num_trials=5)\n",
    "for hps in top_hp:\n",
    "    print(hps.values)\n"
   ]
  },
  {
   "cell_type": "code",
   "execution_count": 25,
   "metadata": {},
   "outputs": [
    {
     "name": "stdout",
     "output_type": "stream",
     "text": [
      "268/268 - 0s - loss: 0.5512 - accuracy: 0.7332 - 294ms/epoch - 1ms/step\n",
      "model 1 Loss: 0.5511918663978577, Accuracy: 0.7331778407096863\n",
      "268/268 - 0s - loss: 0.5524 - accuracy: 0.7328 - 325ms/epoch - 1ms/step\n",
      "model 2 Loss: 0.5524091124534607, Accuracy: 0.7328279614448547\n",
      "268/268 - 0s - loss: 0.5550 - accuracy: 0.7328 - 219ms/epoch - 818us/step\n",
      "model 3 Loss: 0.5549689531326294, Accuracy: 0.7328279614448547\n",
      "268/268 - 0s - loss: 0.5488 - accuracy: 0.7328 - 208ms/epoch - 777us/step\n",
      "model 4 Loss: 0.5487939119338989, Accuracy: 0.7328279614448547\n",
      "268/268 - 0s - loss: 0.5510 - accuracy: 0.7328 - 256ms/epoch - 956us/step\n",
      "model 5 Loss: 0.5509549379348755, Accuracy: 0.7328279614448547\n"
     ]
    }
   ],
   "source": [
    "# print out the loss and accuracy for each of the 5 best models\n",
    "\n",
    "for i, model in enumerate(tuner.get_best_models(num_models=5)):\n",
    "    model_loss, model_accuracy = model.evaluate(X_test_scaled,y_test,verbose=2)\n",
    "    print(f\"model {i+1} Loss: {model_loss}, Accuracy: {model_accuracy}\")"
   ]
  },
  {
   "cell_type": "code",
   "execution_count": 26,
   "metadata": {},
   "outputs": [
    {
     "name": "stdout",
     "output_type": "stream",
     "text": [
      "WARNING:tensorflow:Detecting that an object or model or tf.train.Checkpoint is being deleted with unrestored values. See the following logs for the specific values in question. To silence these warnings, use `status.expect_partial()`. See https://www.tensorflow.org/api_docs/python/tf/train/Checkpoint#restorefor details about the status object returned by the restore function.\n",
      "WARNING:tensorflow:Value in checkpoint could not be found in the restored object: (root).optimizer.iter\n",
      "WARNING:tensorflow:Value in checkpoint could not be found in the restored object: (root).optimizer.beta_1\n",
      "WARNING:tensorflow:Value in checkpoint could not be found in the restored object: (root).optimizer.beta_2\n",
      "WARNING:tensorflow:Value in checkpoint could not be found in the restored object: (root).optimizer.decay\n",
      "WARNING:tensorflow:Value in checkpoint could not be found in the restored object: (root).optimizer.learning_rate\n",
      "WARNING:tensorflow:Detecting that an object or model or tf.train.Checkpoint is being deleted with unrestored values. See the following logs for the specific values in question. To silence these warnings, use `status.expect_partial()`. See https://www.tensorflow.org/api_docs/python/tf/train/Checkpoint#restorefor details about the status object returned by the restore function.\n",
      "WARNING:tensorflow:Value in checkpoint could not be found in the restored object: (root).optimizer.iter\n",
      "WARNING:tensorflow:Value in checkpoint could not be found in the restored object: (root).optimizer.beta_1\n",
      "WARNING:tensorflow:Value in checkpoint could not be found in the restored object: (root).optimizer.beta_2\n",
      "WARNING:tensorflow:Value in checkpoint could not be found in the restored object: (root).optimizer.decay\n",
      "WARNING:tensorflow:Value in checkpoint could not be found in the restored object: (root).optimizer.learning_rate\n",
      "WARNING:tensorflow:Detecting that an object or model or tf.train.Checkpoint is being deleted with unrestored values. See the following logs for the specific values in question. To silence these warnings, use `status.expect_partial()`. See https://www.tensorflow.org/api_docs/python/tf/train/Checkpoint#restorefor details about the status object returned by the restore function.\n",
      "WARNING:tensorflow:Value in checkpoint could not be found in the restored object: (root).optimizer.iter\n",
      "WARNING:tensorflow:Value in checkpoint could not be found in the restored object: (root).optimizer.beta_1\n",
      "WARNING:tensorflow:Value in checkpoint could not be found in the restored object: (root).optimizer.beta_2\n",
      "WARNING:tensorflow:Value in checkpoint could not be found in the restored object: (root).optimizer.decay\n",
      "WARNING:tensorflow:Value in checkpoint could not be found in the restored object: (root).optimizer.learning_rate\n",
      "WARNING:tensorflow:Detecting that an object or model or tf.train.Checkpoint is being deleted with unrestored values. See the following logs for the specific values in question. To silence these warnings, use `status.expect_partial()`. See https://www.tensorflow.org/api_docs/python/tf/train/Checkpoint#restorefor details about the status object returned by the restore function.\n",
      "WARNING:tensorflow:Value in checkpoint could not be found in the restored object: (root).optimizer.iter\n",
      "WARNING:tensorflow:Value in checkpoint could not be found in the restored object: (root).optimizer.beta_1\n",
      "WARNING:tensorflow:Value in checkpoint could not be found in the restored object: (root).optimizer.beta_2\n",
      "WARNING:tensorflow:Value in checkpoint could not be found in the restored object: (root).optimizer.decay\n",
      "WARNING:tensorflow:Value in checkpoint could not be found in the restored object: (root).optimizer.learning_rate\n",
      "WARNING:tensorflow:Detecting that an object or model or tf.train.Checkpoint is being deleted with unrestored values. See the following logs for the specific values in question. To silence these warnings, use `status.expect_partial()`. See https://www.tensorflow.org/api_docs/python/tf/train/Checkpoint#restorefor details about the status object returned by the restore function.\n",
      "WARNING:tensorflow:Value in checkpoint could not be found in the restored object: (root).optimizer.iter\n",
      "WARNING:tensorflow:Value in checkpoint could not be found in the restored object: (root).optimizer.beta_1\n",
      "WARNING:tensorflow:Value in checkpoint could not be found in the restored object: (root).optimizer.beta_2\n",
      "WARNING:tensorflow:Value in checkpoint could not be found in the restored object: (root).optimizer.decay\n",
      "WARNING:tensorflow:Value in checkpoint could not be found in the restored object: (root).optimizer.learning_rate\n",
      "WARNING:tensorflow:Detecting that an object or model or tf.train.Checkpoint is being deleted with unrestored values. See the following logs for the specific values in question. To silence these warnings, use `status.expect_partial()`. See https://www.tensorflow.org/api_docs/python/tf/train/Checkpoint#restorefor details about the status object returned by the restore function.\n",
      "WARNING:tensorflow:Value in checkpoint could not be found in the restored object: (root).optimizer.iter\n",
      "WARNING:tensorflow:Value in checkpoint could not be found in the restored object: (root).optimizer.beta_1\n",
      "WARNING:tensorflow:Value in checkpoint could not be found in the restored object: (root).optimizer.beta_2\n",
      "WARNING:tensorflow:Value in checkpoint could not be found in the restored object: (root).optimizer.decay\n",
      "WARNING:tensorflow:Value in checkpoint could not be found in the restored object: (root).optimizer.learning_rate\n",
      "Model: \"sequential\"\n",
      "_________________________________________________________________\n",
      " Layer (type)                Output Shape              Param #   \n",
      "=================================================================\n",
      " dropout (Dropout)           (None, 66)                0         \n",
      "                                                                 \n",
      " Layer_1 (Dense)             (None, 210)               14070     \n",
      "                                                                 \n",
      " Layer_2 (Dense)             (None, 280)               59080     \n",
      "                                                                 \n",
      " Layer_3 (Dense)             (None, 230)               64630     \n",
      "                                                                 \n",
      " Layer_4 (Dense)             (None, 180)               41580     \n",
      "                                                                 \n",
      " Output (Dense)              (None, 1)                 181       \n",
      "                                                                 \n",
      "=================================================================\n",
      "Total params: 179541 (701.33 KB)\n",
      "Trainable params: 179541 (701.33 KB)\n",
      "Non-trainable params: 0 (0.00 Byte)\n",
      "_________________________________________________________________\n",
      "None\n"
     ]
    }
   ],
   "source": [
    "# The best model from the tuner\n",
    "\n",
    "best_model = tuner.get_best_models(num_models=1)[0]\n",
    "print(best_model.summary())\n",
    "\n"
   ]
  },
  {
   "cell_type": "code",
   "execution_count": 27,
   "metadata": {},
   "outputs": [
    {
     "data": {
      "text/plain": [
       "{'activation': 'tanh',\n",
       " 'first_units': 210,\n",
       " 'num_layers': 3,\n",
       " 'units_0': 280,\n",
       " 'units_1': 230,\n",
       " 'units_2': 180,\n",
       " 'units_3': 350,\n",
       " 'tuner/epochs': 50,\n",
       " 'tuner/initial_epoch': 0,\n",
       " 'tuner/bracket': 0,\n",
       " 'tuner/round': 0}"
      ]
     },
     "execution_count": 27,
     "metadata": {},
     "output_type": "execute_result"
    }
   ],
   "source": [
    "# save the best hyperparemeters\n",
    "best_hp = tuner.get_best_hyperparameters(1)[0].values\n",
    "best_hp"
   ]
  },
  {
   "cell_type": "code",
   "execution_count": 28,
   "metadata": {},
   "outputs": [
    {
     "name": "stdout",
     "output_type": "stream",
     "text": [
      "WARNING:tensorflow:Detecting that an object or model or tf.train.Checkpoint is being deleted with unrestored values. See the following logs for the specific values in question. To silence these warnings, use `status.expect_partial()`. See https://www.tensorflow.org/api_docs/python/tf/train/Checkpoint#restorefor details about the status object returned by the restore function.\n",
      "WARNING:tensorflow:Value in checkpoint could not be found in the restored object: (root).optimizer.iter\n",
      "WARNING:tensorflow:Value in checkpoint could not be found in the restored object: (root).optimizer.beta_1\n",
      "WARNING:tensorflow:Value in checkpoint could not be found in the restored object: (root).optimizer.beta_2\n",
      "WARNING:tensorflow:Value in checkpoint could not be found in the restored object: (root).optimizer.decay\n",
      "WARNING:tensorflow:Value in checkpoint could not be found in the restored object: (root).optimizer.learning_rate\n",
      "Epoch 1/50\n",
      "804/804 [==============================] - 4s 5ms/step - loss: 0.5690 - accuracy: 0.7132\n",
      "Epoch 2/50\n",
      "804/804 [==============================] - 4s 5ms/step - loss: 0.5685 - accuracy: 0.7138\n",
      "Epoch 3/50\n",
      "804/804 [==============================] - 4s 5ms/step - loss: 0.5688 - accuracy: 0.7132\n",
      "Epoch 4/50\n",
      "804/804 [==============================] - 4s 4ms/step - loss: 0.5677 - accuracy: 0.7150\n",
      "Epoch 5/50\n",
      "804/804 [==============================] - 4s 5ms/step - loss: 0.5701 - accuracy: 0.7122\n",
      "Epoch 6/50\n",
      "804/804 [==============================] - 4s 5ms/step - loss: 0.5687 - accuracy: 0.7153\n",
      "Epoch 7/50\n",
      "804/804 [==============================] - 4s 5ms/step - loss: 0.5685 - accuracy: 0.7155\n",
      "Epoch 8/50\n",
      "804/804 [==============================] - 4s 5ms/step - loss: 0.5676 - accuracy: 0.7170\n",
      "Epoch 9/50\n",
      "804/804 [==============================] - 4s 5ms/step - loss: 0.5669 - accuracy: 0.7158\n",
      "Epoch 10/50\n",
      "804/804 [==============================] - 4s 5ms/step - loss: 0.5668 - accuracy: 0.7169\n",
      "Epoch 11/50\n",
      "804/804 [==============================] - 4s 4ms/step - loss: 0.5678 - accuracy: 0.7144\n",
      "Epoch 12/50\n",
      "804/804 [==============================] - 4s 4ms/step - loss: 0.5665 - accuracy: 0.7183\n",
      "Epoch 13/50\n",
      "804/804 [==============================] - 4s 5ms/step - loss: 0.5665 - accuracy: 0.7135\n",
      "Epoch 14/50\n",
      "804/804 [==============================] - 4s 5ms/step - loss: 0.5676 - accuracy: 0.7156\n",
      "Epoch 15/50\n",
      "804/804 [==============================] - 4s 5ms/step - loss: 0.5673 - accuracy: 0.7151\n",
      "Epoch 16/50\n",
      "804/804 [==============================] - 4s 5ms/step - loss: 0.5689 - accuracy: 0.7152\n",
      "Epoch 17/50\n",
      "804/804 [==============================] - 4s 5ms/step - loss: 0.5661 - accuracy: 0.7146\n",
      "Epoch 18/50\n",
      "804/804 [==============================] - 4s 4ms/step - loss: 0.5668 - accuracy: 0.7179\n",
      "Epoch 19/50\n",
      "804/804 [==============================] - 4s 5ms/step - loss: 0.5679 - accuracy: 0.7145\n",
      "Epoch 20/50\n",
      "804/804 [==============================] - 4s 5ms/step - loss: 0.5670 - accuracy: 0.7158\n",
      "Epoch 21/50\n",
      "804/804 [==============================] - 4s 5ms/step - loss: 0.5664 - accuracy: 0.7156\n",
      "Epoch 22/50\n",
      "804/804 [==============================] - 4s 5ms/step - loss: 0.5669 - accuracy: 0.7153\n",
      "Epoch 23/50\n",
      "804/804 [==============================] - 4s 4ms/step - loss: 0.5658 - accuracy: 0.7161\n",
      "Epoch 24/50\n",
      "804/804 [==============================] - 4s 5ms/step - loss: 0.5677 - accuracy: 0.7147\n",
      "Epoch 25/50\n",
      "804/804 [==============================] - 4s 4ms/step - loss: 0.5654 - accuracy: 0.7156\n",
      "Epoch 26/50\n",
      "804/804 [==============================] - 4s 5ms/step - loss: 0.5679 - accuracy: 0.7149\n",
      "Epoch 27/50\n",
      "804/804 [==============================] - 4s 5ms/step - loss: 0.5646 - accuracy: 0.7176\n",
      "Epoch 28/50\n",
      "804/804 [==============================] - 4s 5ms/step - loss: 0.5646 - accuracy: 0.7190\n",
      "Epoch 29/50\n",
      "804/804 [==============================] - 4s 5ms/step - loss: 0.5645 - accuracy: 0.7187\n",
      "Epoch 30/50\n",
      "804/804 [==============================] - 4s 5ms/step - loss: 0.5652 - accuracy: 0.7164\n",
      "Epoch 31/50\n",
      "804/804 [==============================] - 4s 5ms/step - loss: 0.5664 - accuracy: 0.7149\n",
      "Epoch 32/50\n",
      "804/804 [==============================] - 4s 5ms/step - loss: 0.5647 - accuracy: 0.7170\n",
      "Epoch 33/50\n",
      "804/804 [==============================] - 4s 5ms/step - loss: 0.5672 - accuracy: 0.7153\n",
      "Epoch 34/50\n",
      "804/804 [==============================] - 4s 5ms/step - loss: 0.5676 - accuracy: 0.7136\n",
      "Epoch 35/50\n",
      "804/804 [==============================] - 4s 5ms/step - loss: 0.5652 - accuracy: 0.7183\n",
      "Epoch 36/50\n",
      "804/804 [==============================] - 4s 5ms/step - loss: 0.5657 - accuracy: 0.7158\n",
      "Epoch 37/50\n",
      "804/804 [==============================] - 4s 5ms/step - loss: 0.5659 - accuracy: 0.7164\n",
      "Epoch 38/50\n",
      "804/804 [==============================] - 4s 5ms/step - loss: 0.5647 - accuracy: 0.7174\n",
      "Epoch 39/50\n",
      "804/804 [==============================] - 4s 5ms/step - loss: 0.5678 - accuracy: 0.7139\n",
      "Epoch 40/50\n",
      "804/804 [==============================] - 4s 5ms/step - loss: 0.5664 - accuracy: 0.7141\n",
      "Epoch 41/50\n",
      "804/804 [==============================] - 4s 4ms/step - loss: 0.5670 - accuracy: 0.7165\n",
      "Epoch 42/50\n",
      "804/804 [==============================] - 4s 5ms/step - loss: 0.5668 - accuracy: 0.7154\n",
      "Epoch 43/50\n",
      "804/804 [==============================] - 4s 5ms/step - loss: 0.5656 - accuracy: 0.7173\n",
      "Epoch 44/50\n",
      "804/804 [==============================] - 4s 5ms/step - loss: 0.5649 - accuracy: 0.7182\n",
      "Epoch 45/50\n",
      "804/804 [==============================] - 4s 5ms/step - loss: 0.5666 - accuracy: 0.7179\n",
      "Epoch 46/50\n",
      "804/804 [==============================] - 4s 5ms/step - loss: 0.5654 - accuracy: 0.7171\n",
      "Epoch 47/50\n",
      "804/804 [==============================] - 4s 5ms/step - loss: 0.5652 - accuracy: 0.7172\n",
      "Epoch 48/50\n",
      "804/804 [==============================] - 4s 5ms/step - loss: 0.5633 - accuracy: 0.7180\n",
      "Epoch 49/50\n",
      "804/804 [==============================] - 4s 5ms/step - loss: 0.5641 - accuracy: 0.7165\n",
      "Epoch 50/50\n",
      "804/804 [==============================] - 4s 5ms/step - loss: 0.5648 - accuracy: 0.7166\n"
     ]
    }
   ],
   "source": [
    "# Compile the model and save it\n",
    "best_model.compile(loss='binary_crossentropy', optimizer='adam', metrics=['accuracy'])\n",
    "\n",
    "# create checkpoint callback for every 5 batches\n",
    "final_model_checkpoint = tf.keras.callbacks.ModelCheckpoint(\"./checkpoints/final_model/\",\n",
    "                                                           save_weights_only = True,\n",
    "                                                           save_freq = 5\n",
    "                                                           )\n",
    "\n",
    "\n",
    "# Train the best model\n",
    "fit_final_model = best_model.fit(X_train_scaled, y_train,epochs=50, \n",
    "                               callbacks=final_model_checkpoint\n",
    "                               )"
   ]
  },
  {
   "cell_type": "code",
   "execution_count": 29,
   "metadata": {},
   "outputs": [
    {
     "name": "stderr",
     "output_type": "stream",
     "text": [
      "/Users/benwruck/miniconda3/envs/py310/lib/python3.10/site-packages/keras/src/engine/training.py:3103: UserWarning: You are saving your model as an HDF5 file via `model.save()`. This file format is considered legacy. We recommend using instead the native Keras format, e.g. `model.save('my_model.keras')`.\n",
      "  saving_api.save_model(\n"
     ]
    }
   ],
   "source": [
    "# save the model to HDF5 as per homework instructions\n",
    "# this is considered a legacy option now as per warning message\n",
    "best_model.save(\"./models/AlphabetSoupCharity_Optimisation.h5\")    "
   ]
  },
  {
   "cell_type": "code",
   "execution_count": 30,
   "metadata": {},
   "outputs": [],
   "source": [
    "# this is the recommended method for saving as per keras documentation which is a zipped archive which contains the h5 too!\n",
    "# https://keras.io/guides/serialization_and_saving/\n",
    "best_model.save(\"./models/AlphabetSoupCharity_Optimisation.keras\")"
   ]
  },
  {
   "cell_type": "code",
   "execution_count": null,
   "metadata": {},
   "outputs": [],
   "source": []
  }
 ],
 "metadata": {
  "kernelspec": {
   "display_name": "Python 3 (ipykernel)",
   "language": "python",
   "name": "python3"
  },
  "language_info": {
   "codemirror_mode": {
    "name": "ipython",
    "version": 3
   },
   "file_extension": ".py",
   "mimetype": "text/x-python",
   "name": "python",
   "nbconvert_exporter": "python",
   "pygments_lexer": "ipython3",
   "version": "3.10.13"
  },
  "vscode": {
   "interpreter": {
    "hash": "31f2aee4e71d21fbe5cf8b01ff0e069b9275f58929596ceb00d14d90e3e16cd6"
   }
  }
 },
 "nbformat": 4,
 "nbformat_minor": 4
}
